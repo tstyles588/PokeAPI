{
 "cells": [
  {
   "cell_type": "code",
   "execution_count": 39,
   "metadata": {},
   "outputs": [],
   "source": [
    "import requests\n",
    "\n",
    "class Pokemon:\n",
    "    _all = []\n",
    "    \n",
    "    def __init__(self):\n",
    "        self.name = None\n",
    "        self.abillities = None\n",
    "        self.type = None\n",
    "        self.weight = None\n",
    "        self._all.append(self)\n",
    "        \n",
    "    def get_info(self, dict):\n",
    "        for key in ['name', 'abilities', 'type', 'weight']:\n",
    "            if key in dict:\n",
    "                setattr(self, key, dict[key])\n",
    "                \n",
    "    def show_pokemon(self):\n",
    "        return [i.name for i in self._all]\n",
    "    \n",
    "    def __repr__(self):\n",
    "        return f\"{self.name} -> {self.type}\"\n",
    "    \n",
    "class Pokedex:\n",
    "    _dex = []\n",
    "    api = 'https://pokeapi.co/api/v2/pokemon'\n",
    "    \n",
    "    @classmethod\n",
    "    def generate(self, pokemon):\n",
    "        res = requests.get(f\"{self.api}/{pokemon}\").json()\n",
    "        pokemon_list = {\n",
    "            'name': res['name'].title(),\n",
    "            'abilities': [i['ability']['name'] for i in res['abilities']],\n",
    "            'type': [i['type']['name'] for i in res['types']] [0].title(),\n",
    "            'weight': res['weight']\n",
    "        }\n",
    "        p = Pokemon()\n",
    "        p.get_info(pokemon_list)\n",
    "        self._dex.append(p)\n",
    "                           \n",
    "    \n",
    "    @classmethod\n",
    "    def category_sort(self):\n",
    "        type_dict = {}\n",
    "        for pokemon in self._dex:\n",
    "            new_dict = {}\n",
    "            if pokemon.type not in type_dict:\n",
    "                type_dict[pokemon.type] = {}\n",
    "            type_dict[pokemon.type].update({\n",
    "                pokemon.name.title(): {\n",
    "                    'abilities': pokemon.abilities, \n",
    "                    'weight': pokemon.weight\n",
    "                }\n",
    "            })\n",
    "        return type_dict\n",
    "    @classmethod\n",
    "    def show(self):\n",
    "        return self._dex"
   ]
  },
  {
   "cell_type": "code",
   "execution_count": 48,
   "metadata": {},
   "outputs": [
    {
     "data": {
      "text/plain": [
       "{'Ice': {'Glalie': {'abilities': ['inner-focus', 'ice-body', 'moody'],\n",
       "   'weight': 2565}},\n",
       " 'Water': {'Staryu': {'abilities': ['illuminate', 'natural-cure', 'analytic'],\n",
       "   'weight': 345},\n",
       "  'Lapras': {'abilities': ['water-absorb', 'shell-armor', 'hydration'],\n",
       "   'weight': 2200},\n",
       "  'Piplup': {'abilities': ['torrent', 'defiant'], 'weight': 52},\n",
       "  'Kingdra': {'abilities': ['swift-swim', 'sniper', 'damp'], 'weight': 1520},\n",
       "  'Tentacool': {'abilities': ['clear-body', 'liquid-ooze', 'rain-dish'],\n",
       "   'weight': 455}},\n",
       " 'Fire': {'Blaziken': {'abilities': ['blaze', 'speed-boost'], 'weight': 520},\n",
       "  'Arcanine': {'abilities': ['intimidate', 'flash-fire', 'justified'],\n",
       "   'weight': 1550},\n",
       "  'Charizard': {'abilities': ['blaze', 'solar-power'], 'weight': 905}},\n",
       " 'Normal': {'Ditto': {'abilities': ['limber', 'imposter'], 'weight': 40},\n",
       "  'Staraptor': {'abilities': ['intimidate', 'reckless'], 'weight': 249},\n",
       "  'Swellow': {'abilities': ['guts', 'scrappy'], 'weight': 198},\n",
       "  'Meowth': {'abilities': ['pickup', 'technician', 'unnerve'], 'weight': 42}},\n",
       " 'Rock': {'Geodude': {'abilities': ['rock-head', 'sturdy', 'sand-veil'],\n",
       "   'weight': 200}},\n",
       " 'Fighting': {'Lucario': {'abilities': ['steadfast',\n",
       "    'inner-focus',\n",
       "    'justified'],\n",
       "   'weight': 540},\n",
       "  'Riolu': {'abilities': ['steadfast', 'inner-focus', 'prankster'],\n",
       "   'weight': 202},\n",
       "  'Machamp': {'abilities': ['guts', 'no-guard', 'steadfast'], 'weight': 1300}},\n",
       " 'Dragon': {'Dragonite': {'abilities': ['inner-focus', 'multiscale'],\n",
       "   'weight': 2100},\n",
       "  'Dratini': {'abilities': ['shed-skin', 'marvel-scale'], 'weight': 33}},\n",
       " 'Fairy': {'Togepi': {'abilities': ['hustle', 'serene-grace', 'super-luck'],\n",
       "   'weight': 15}},\n",
       " 'Ghost': {'Gastly': {'abilities': ['levitate'], 'weight': 1}}}"
      ]
     },
     "execution_count": 48,
     "metadata": {},
     "output_type": "execute_result"
    }
   ],
   "source": [
    "Pokedex.category_sort()"
   ]
  },
  {
   "cell_type": "code",
   "execution_count": 47,
   "metadata": {},
   "outputs": [
    {
     "data": {
      "text/plain": [
       "[Glalie -> Ice,\n",
       " Staryu -> Water,\n",
       " Lapras -> Water,\n",
       " Blaziken -> Fire,\n",
       " Ditto -> Normal,\n",
       " Geodude -> Rock,\n",
       " Lucario -> Fighting,\n",
       " Riolu -> Fighting,\n",
       " Arcanine -> Fire,\n",
       " Piplup -> Water,\n",
       " Dragonite -> Dragon,\n",
       " Machamp -> Fighting,\n",
       " Kingdra -> Water,\n",
       " Tentacool -> Water,\n",
       " Staraptor -> Normal,\n",
       " Swellow -> Normal,\n",
       " Charizard -> Fire,\n",
       " Togepi -> Fairy,\n",
       " Meowth -> Normal,\n",
       " Dratini -> Dragon,\n",
       " Gastly -> Ghost]"
      ]
     },
     "execution_count": 47,
     "metadata": {},
     "output_type": "execute_result"
    }
   ],
   "source": [
    "Pokedex.show()"
   ]
  },
  {
   "cell_type": "code",
   "execution_count": 43,
   "metadata": {},
   "outputs": [],
   "source": [
    "poke_list = ['glalie', 'staryu', 'lapras', 'blaziken', 'ditto', 'geodude', 'lucario', 'riolu', 'arcanine', 'piplup', 'dragonite', 'machamp', 'kingdra', 'tentacool', 'staraptor', 'swellow', 'charizard']"
   ]
  },
  {
   "cell_type": "code",
   "execution_count": 44,
   "metadata": {},
   "outputs": [],
   "source": [
    "for poke in poke_list:\n",
    "    Pokedex.generate(poke)"
   ]
  },
  {
   "cell_type": "code",
   "execution_count": 45,
   "metadata": {},
   "outputs": [],
   "source": [
    "poke_list2 = ['togepi', 'meowth', 'dratini', 'gastly']"
   ]
  },
  {
   "cell_type": "code",
   "execution_count": 46,
   "metadata": {},
   "outputs": [],
   "source": [
    "for poke in poke_list2:\n",
    "    Pokedex.generate(poke)"
   ]
  },
  {
   "cell_type": "code",
   "execution_count": null,
   "metadata": {},
   "outputs": [],
   "source": []
  },
  {
   "cell_type": "code",
   "execution_count": null,
   "metadata": {},
   "outputs": [],
   "source": []
  }
 ],
 "metadata": {
  "kernelspec": {
   "display_name": "Python 3",
   "language": "python",
   "name": "python3"
  },
  "language_info": {
   "codemirror_mode": {
    "name": "ipython",
    "version": 3
   },
   "file_extension": ".py",
   "mimetype": "text/x-python",
   "name": "python",
   "nbconvert_exporter": "python",
   "pygments_lexer": "ipython3",
   "version": "3.7.6"
  }
 },
 "nbformat": 4,
 "nbformat_minor": 4
}
